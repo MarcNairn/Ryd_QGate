{
 "cells": [
  {
   "cell_type": "markdown",
   "metadata": {},
   "source": [
    "Optimal parameter search for the 3-body Rydberg gate via collective excitation"
   ]
  },
  {
   "cell_type": "markdown",
   "metadata": {},
   "source": [
    "Below are all parameters used in the model:\n",
    "\n",
    "$$ \\delta_1,\\,  \\delta_2, \\,\\delta_3,\\, \\Delta_a,\\, \\Delta_b,\\, \\Omega_1,\\, \\Omega_2,\\, \\Omega_3,\\, g_a,\\, g_b,\\, n $$\n",
    "\n",
    "To adiabatically eliminate the single atom levels $|a\\rangle_{1,3}$ and $|b\\rangle_{1,3}$ (recall atom 2 is already in a 2 level system so no extra work must  be done to it) we require:\n",
    "\n",
    "$$ \\delta_1\\gg\\Omega_1, \\quad \\delta_3\\gg\\Omega_3 $$ \n",
    "\n",
    "and  \n",
    "\n",
    "$$ |\\Delta_a|\\gg g_a, \\quad |\\Delta_b|\\gg g_b $$ "
   ]
  },
  {
   "cell_type": "markdown",
   "metadata": {},
   "source": [
    "The states we must consider are those spanned by the Dicke manifolds of 3,2,1 and no excitations:\n",
    "$$\\ket{D_3^0}: \\ket{ggg}$$\n",
    "$$\\ket{D_3^1}: \\ket{rgg}, \\ket{grg}, \\ket{ggr}$$\n",
    "$$\\ket{D_3^2}: \\ket{rrg}, \\ket{rgr}, \\ket{grr}$$\n",
    "$$\\ket{D_3^3}: \\ket{rrr}.$$"
   ]
  },
  {
   "cell_type": "markdown",
   "metadata": {},
   "source": [
    "\n",
    "\n",
    "\n",
    "The effective Rabi frequencies of the two-photon transitions are \n",
    "\n",
    "$$ \\tilde{\\Omega}_1(n) = \\dfrac{\\Omega_1g_a\\sqrt{n+1}}{\\delta_1}, \\quad \\tilde{\\Omega}_2 = \\Omega_2, \\quad \\tilde{\\Omega}_3(n) = \\dfrac{\\Omega_3g_b\\sqrt{n}}{\\delta_3} $$\n",
    "\n",
    "with the respective detunings: \n",
    "        $$\\Delta_1(n) = \\delta1 - \\Delta_a + \\dfrac{\\Omega_1^2}{\\delta_1}-\\dfrac{g_a^2}{\\delta_1}(n+1) + \\dfrac{g_b^2(n+2)}{\\Delta_b},$$\n",
    "               \n",
    "$$\\Delta_2(n) = \\delta_2,$$\n",
    "$$ \\Delta_3(n) =  \\delta_3 + \\Delta_b + \\dfrac{\\Omega_3^2}{\\delta_3} -\\dfrac{g_b^2n}{\\delta_3} - \\dfrac{g_a^2(n-1)}{\\Delta_a}.$$\n",
    "\n",
    "The full Hamiltonian reads:\n",
    "\n",
    "$$ H_T =  \n",
    "\\begin{pmatrix}\n",
    "        0 & \\tilde{\\Omega}_1(n) & \\Omega_2 & \\tilde{\\Omega}_3(n) & 0 & 0 & 0 & 0 \\\\\n",
    "        \\tilde{\\Omega}_1(n) & \\Delta_1(n) & 0 & 0 &  \\Omega_2 &  \\tilde{\\Omega}_3(n+1) & 0 & 0 \\\\\n",
    "        \\Omega_2 & 0 & \\delta_2 & 0 & \\tilde{\\Omega}_1(n) & 0 & \\tilde{\\Omega}_3(n) & 0 \\\\\n",
    "        \\tilde{\\Omega}_3(n) & 0 & 0 & \\Delta_3(n) & 0 & \\tilde{\\Omega}_1(n-1) & \\Omega_2 & 0 \\\\\n",
    "        0 & \\Omega_2 & \\tilde{\\Omega}_1(n) & 0 & \\Delta_{rrg}(n) & 0 & 0 & \\tilde{\\Omega}_3(n+1) \\\\\n",
    "        0 & \\tilde{\\Omega}_3(n) & 0 & \\tilde{\\Omega}_1(n) & 0 & \\Delta_{rgr}(n) & 0 & \\Omega_2 \\\\\n",
    "        0 & 0 & \\tilde{\\Omega}_3(n+1) & \\Omega_2 & 0 & 0 & \\Delta_{grr}(n) & \\tilde{\\Omega}_1(n-1) \\\\\n",
    "        0 & 0 & 0 & 0 & \\tilde{\\Omega}_3(n+1) & \\Omega_2 & \\tilde{\\Omega}_1(n-1) & \\Delta_R(n) \\end{pmatrix}\n",
    "$$"
   ]
  },
  {
   "cell_type": "markdown",
   "metadata": {},
   "source": [
    "where\n",
    "$$    \\Delta_{rrg}(n) = \\Delta_1(n) + \\delta_2, \\quad\n",
    "    \\Delta_{rgr}(n) = \\Delta_3(n+1)  + \\Delta_1(n-1), \\quad\n",
    "    \\Delta_{grr}(n) = \\Delta_3(n) + \\delta_2.$$\n",
    "\n",
    "To eliminate the lower excited collective states $|rgg\\rangle, |grg\\rangle, |ggr\\rangle$ we need the two-photon transition to be off resonant:\n",
    "\n",
    "$$ \\Delta_1(n) \\gg \\tilde{\\Omega}_1(n), \\quad \\delta_2\\gg\\Omega_2,\\quad \\Delta_3(n) \\gg \\tilde{\\Omega}_3(n)$$ \n",
    "(note the second atom doesnt have $n$ dependent terms)\n",
    "\n",
    "\n",
    "This leaves us with the states $|ggg\\rangle,|rrg\\rangle, |grr\\rangle, |rgr\\rangle, |rrr\\rangle $ described by the Hamiltonian:\n",
    "\n",
    "\n",
    "$$     \\tilde{H}_\\text{g2r} =\\begin{pmatrix}\n",
    "\\Delta_G(n) & -\\overline{\\Omega}_{21}(n) & -\\overline{\\Omega}_{31}(n) & -\\overline{\\Omega}_{32}(n) & 0 \\\\\n",
    "-\\overline{\\Omega}_{12}(n) & \\Delta_{rrg}'(n) & -\\dfrac{\\Omega_2 \\tilde{\\Omega}_3(n+1)}{\\Delta_1(n)} & -\\dfrac{\\tilde{\\Omega}_1(n) \\tilde{\\Omega}_3(n)}{\\delta_2} & \\tilde{\\Omega}_3(n+1) \\\\\n",
    "-\\overline{\\Omega}_{13}(n) & -\\dfrac{\\Omega_2 \\tilde{\\Omega}_3(n)}{\\Delta_1(n)} & \\Delta_{rgr}'(n) & -\\dfrac{\\Omega_2 \\tilde{\\Omega}_1(n)}{\\Delta_3(n)} & \\Omega_2 \\\\\n",
    "-\\overline{\\Omega}_{23}(n) & -\\dfrac{\\tilde{\\Omega}_1(n) \\tilde{\\Omega}_3(n+1)}{\\delta_2} & -\\dfrac{\\Omega_2 \\tilde{\\Omega}_1(n-1)}{\\Delta_3(n)} & \\Delta_{grr}'(n)& \\tilde{\\Omega}_1(n-1) \\\\\n",
    "0 & \\tilde{\\Omega}_3(n+1) & \\Omega_2 & \\tilde{\\Omega}_1(n-1) & \\Delta_{R}(n) \\\\\n",
    "\\end{pmatrix} \n",
    "\n",
    "$$\n"
   ]
  },
  {
   "cell_type": "markdown",
   "metadata": {},
   "source": [
    "where \n",
    "        $$\\Delta_G(n) = -\\dfrac{\\Omega_2^2}{\\delta_2} - \\dfrac{\\tilde{\\Omega}_{1}^2(n)}{\\Delta_{1}(n)} - \\dfrac{\\tilde{\\Omega}_{3}^2(n)}{\\Delta_{3}(n)}$$\n",
    "        $$\\Delta_{rrg}'(n) = \\Delta_{rrg}(n) -\\dfrac{\\Omega_2^2}{\\Delta_{1}(n)} - \\dfrac{\\tilde{\\Omega}_{1}^2(n)}{\\delta_2}$$ \n",
    "        $$\\Delta_{rgr}'(n) = \\Delta_{rgr}(n) - \\dfrac{\\tilde{\\Omega}_{1}(n) \\tilde{\\Omega}_{1}(n-1)}{\\Delta_{3}(n)} - \\dfrac{\\tilde{\\Omega}_{3}(n) \\tilde{\\Omega}_{3}(n+1)}{\\Delta_{1}(n)}$$\n",
    "        $$\\Delta_{grr}'(n)=\\Delta_{grr}(n)-\\dfrac{\\Omega_2^2}{\\Delta_{3}(n)} - \\dfrac{\\tilde{\\Omega}_{3}(n) \\tilde{\\Omega}_{3}(n+1)}{\\delta_2}$$\n"
   ]
  },
  {
   "cell_type": "markdown",
   "metadata": {},
   "source": [
    "and we have introduced the transition amplitudes of the $|ggg\\rangle \\rightarrow |rgr\\rangle, |rrg\\rangle, |grr\\rangle$ excitations \n",
    "$$\\overline{\\Omega}_{13}(n) = \\dfrac{\\tilde{\\Omega}_{1}(n)\\tilde{\\Omega}_{3}(n)(\\Delta_{1}(n)+\\Delta_{3}(n))}{\\Delta_{1}(n)\\Delta_{3}(n)} =  \\overline{\\Omega}_{31}(n)$$\n",
    "$$\\overline{\\Omega}_{i2}(n) = \\dfrac{\\tilde{\\Omega}_{i}(n)\\Omega_2(\\Delta_{i}(n)+\\delta_2))}{\\Delta_{i}(n)\\delta_2} =    \\overline{\\Omega}_{2i}(n).$$\n"
   ]
  },
  {
   "cell_type": "markdown",
   "metadata": {},
   "source": [
    "For the collective transitions to be resonant, we require $$ \\Delta_G(n) +  \\Delta_{rrg}'(n) + \\Delta_{rgr}'(n) + \\Delta_{grr}'(n) = \\Delta_R(n).$$"
   ]
  },
  {
   "cell_type": "markdown",
   "metadata": {},
   "source": [
    "Assuming the crosstalk between the intermediately excited states is negligible, we can add the individual transition amplitudes from the distinct excitation paths to obtain the combined effective Rabi frequency $$\\overline{\\Omega} \\approx \\dfrac{\\tilde{\\Omega}_3(n+1)\\overline{\\Omega}_{12}(n)}{\\Delta'_{rrg}(n)} + \\dfrac{\\Omega_2\\overline{\\Omega}_{13}(n)}{\\Delta'_{rgr}(n)}+ \\dfrac{\\tilde{\\Omega}_1(n-1)\\overline{\\Omega}_{23}(n)}{\\Delta'_{grr}(n)}.$$\n"
   ]
  }
 ],
 "metadata": {
  "kernelspec": {
   "display_name": "Python 3",
   "language": "python",
   "name": "python3"
  },
  "language_info": {
   "codemirror_mode": {
    "name": "ipython",
    "version": 3
   },
   "file_extension": ".py",
   "mimetype": "text/x-python",
   "name": "python",
   "nbconvert_exporter": "python",
   "pygments_lexer": "ipython3",
   "version": "3.12.7"
  }
 },
 "nbformat": 4,
 "nbformat_minor": 2
}
