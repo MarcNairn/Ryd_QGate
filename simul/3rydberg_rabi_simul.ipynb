{
 "cells": [
  {
   "cell_type": "markdown",
   "metadata": {},
   "source": [
    "In this notebook we simulate the dynamics of three Rydberg atoms to efficiently generate triply ground-to-excited transitions governed by a collective Rabi frequency (transition amplitude) $\\overline{\\Omega}$"
   ]
  },
  {
   "cell_type": "code",
   "execution_count": null,
   "metadata": {},
   "outputs": [
    {
     "ename": "",
     "evalue": "",
     "output_type": "error",
     "traceback": [
      "\u001b[1;31mThe kernel failed to start as a dll could not be loaded.\n",
      "\u001b[1;31mClick <a href='https://aka.ms/kernelFailuresDllLoad'>here</a> for more info."
     ]
    }
   ],
   "source": [
    "#from qutip import *\n",
    "# import numpy as np\n",
    "# import matplotlib.pyplot as plt"
   ]
  },
  {
   "cell_type": "code",
   "execution_count": null,
   "metadata": {},
   "outputs": [],
   "source": [
    "plt.rc('text', usetex=True)\n",
    "plt.rc('font', family='serif')\n",
    "\n",
    "SMALL_SIZE = 8\n",
    "MEDIUM_SIZE = 10\n",
    "BIGGER_SIZE = 18\n",
    "\n",
    "plt.rc('font', size=BIGGER_SIZE)          # controls default text sizes\n",
    "plt.rc('axes', titlesize=BIGGER_SIZE)     # fontsize of the axes title\n",
    "plt.rc('xtick', labelsize=BIGGER_SIZE)  "
   ]
  },
  {
   "cell_type": "code",
   "execution_count": null,
   "metadata": {},
   "outputs": [],
   "source": [
    "# Parameter normalisation to define timescales\n",
    "punit = 1 \n",
    "\n",
    "\"\"\" # Parameters (frequencies, detunings, and couplings)\n",
    "Ω1, Ω2, Ω3 = 20*punit,10*punit,7*punit  # Rabi frequencies for atoms\n",
    "δ1, δ2, δ3 = 1*punit, -1*punit, 1*punit  # Detunings for each atom\n",
    "Δa, Δb = 20*punit, 20*punit  # Frequency shifts\n",
    "g_a, g_b = 1*punit,1*punit  # Coupling strengths \"\"\"\n",
    "\n",
    "Ω1, Ω2, Ω3 = 56.50*punit, 60.0*punit, 112.0*punit  # Rabi frequencies for atoms\n",
    "δ1, δ2, δ3= 663.8*punit,-742.0*punit, 716.0*punit # Detunings for each atom\n",
    "Δa, Δb = 722.0*punit,800.0*punit  # Frequency shifts\n",
    "g_a, g_b = 9.5*punit,10.0*punit # Coupling strengths\n",
    "\n",
    "# Photon number (n) for different transitions\n",
    "n = 10  # Example photon number for simulation\n"
   ]
  },
  {
   "cell_type": "markdown",
   "metadata": {},
   "source": [
    "As in the 2 atom case, we can reduce the problem to work only with the collective states spanned by the individual ground/excited states in the basis $$\\{|rrr,n\\rangle, |grr,n-1\\rangle, |rgr,n\\rangle, |rrg,n+1\\rangle, |rgg,n+1\\rangle, |grg,n\\rangle, |ggr,n-1\\rangle, |ggg,n\\rangle\\}^T$$"
   ]
  },
  {
   "cell_type": "code",
   "execution_count": null,
   "metadata": {},
   "outputs": [],
   "source": [
    "# Hamiltonian and detunings for individual atoms \n",
    "\n",
    "ΩΩ1 = Ω1*Ω1\n",
    "def Delta1(n): \n",
    "     Delta1 = δ1-Δa+ΩΩ1/δ1-g_a*g_a*(n+1)/δ1+g_b*g_b*(n+2)/Δb\n",
    "     return Delta1\n",
    "\n",
    "# ΩΩ2 = Ω2*Ω2\n",
    "def Delta2(n): \n",
    "    Delta2 = δ2\n",
    "    return Delta2\n",
    "\n",
    "\n",
    "ΩΩ3 = Ω3*Ω3\n",
    "def Delta3(n): \n",
    "    Delta3 = δ3+Δb+ΩΩ3/δ3-g_b*g_b*n/δ3-g_a*g_a*(n-1)/Δa\n",
    "    return Delta3\n",
    "\n",
    "\n",
    "def Omega1t(n):\n",
    "    Omega1t = Ω1*g_a*np.sqrt(n+1)/δ1\n",
    "    return Omega1t\n",
    "\n",
    "def Omega2t(n):\n",
    "    Omega2t = Ω2\n",
    "    return Omega2t\n",
    "\n",
    "def Omega3t(n):\n",
    "    Omega3t = Ω3*g_b*np.sqrt(n)/δ3\n",
    "    return Omega3t\n",
    "\n",
    "def H_atom1(n):\n",
    "    sqrt_n1 = np.sqrt1(n+1)\n",
    "    # 2x2 matrix for the atom's Hamiltonian\n",
    "    H = np.array([[Delta1(n),Omega1t(n)],\n",
    "                [Omega1t(n),0]])\n",
    "    \n",
    "    return Qobj(H)\n",
    "\n",
    "def H_atom2(n):\n",
    "    sqrt_n= np.sqrt1(n)\n",
    "    # 2x2 matrix for the atom's Hamiltonian\n",
    "    H = np.array([[Delta2(n), Omega2t(n)],\n",
    "                [Omega2t(n),0]])\n",
    "    \n",
    "    return Qobj(H)\n",
    "\n",
    "def H_atom3(n):\n",
    "    sqrt_n1 = np.sqrt1(n)\n",
    "    # 2x2 matrix for the atom's Hamiltonian\n",
    "    H = np.array([[Delta3(n), Omega3t(n)],\n",
    "                [Omega3t(n),0]])\n",
    "    \n",
    "    return Qobj(H)"
   ]
  },
  {
   "cell_type": "markdown",
   "metadata": {},
   "source": [
    "Moving to the combined basis the Hamiltonian takes the form:\n",
    "\n",
    "$$ H_T =  \n",
    "\\begin{pmatrix}\n",
    "        0 & \\tilde{\\Omega}_1(n) & \\Omega_2 & \\tilde{\\Omega}_3(n) & 0 & 0 & 0 & 0 \\\\\n",
    "        \\tilde{\\Omega}_1(n) & \\Delta_1(n) & 0 & 0 &  \\Omega_2 &  \\tilde{\\Omega}_3(n+1) & 0 & 0 \\\\\n",
    "        \\Omega_2 & 0 & \\delta_2 & 0 & \\tilde{\\Omega}_1(n) & 0 & \\tilde{\\Omega}_3(n) & 0 \\\\\n",
    "        \\tilde{\\Omega}_3(n) & 0 & 0 & \\Delta_3(n) & 0 & \\tilde{\\Omega}_1(n-1) & \\Omega_2 & 0 \\\\\n",
    "        0 & \\Omega_2 & \\tilde{\\Omega}_1(n) & 0 & \\Delta_{rrg}(n) & 0 & 0 & \\tilde{\\Omega}_3(n+1) \\\\\n",
    "        0 & \\tilde{\\Omega}_3(n) & 0 & \\tilde{\\Omega}_1(n) & 0 & \\Delta_{rgr}(n) & 0 & \\Omega_2 \\\\\n",
    "        0 & 0 & \\tilde{\\Omega}_3(n+1) & \\Omega_2 & 0 & 0 & \\Delta_{grr}(n) & \\tilde{\\Omega}_1(n-1) \\\\\n",
    "        0 & 0 & 0 & 0 & \\tilde{\\Omega}_3(n+1) & \\Omega_2 & \\tilde{\\Omega}_1(n-1) & \\Delta_R(n) \\end{pmatrix}\n",
    "$$\n",
    "\n",
    "where $\\Delta_R(n) = \\Delta_1(n-1) + \\delta_2 +\\Delta_3(n+1)$."
   ]
  },
  {
   "cell_type": "code",
   "execution_count": null,
   "metadata": {},
   "outputs": [],
   "source": [
    "\n",
    "dets = np.linspace(10,0,8)\n",
    "\n",
    "Deltagg = 0\n",
    "Deltagrr = Delta3(n) + Delta2(n)\n",
    "Deltargr = Delta3(n+1) + Delta1(n-1) \n",
    "Deltarrg = Delta1(n) + Delta2(n)\n",
    "Deltargg = Delta1(n) \n",
    "Deltagrg = Delta2(n) \n",
    "Deltaggr = Delta3(n) \n",
    "Deltarrr = Delta1(n-1) + Delta2(n) + Delta3(n+1) \n",
    "\n",
    "\n",
    "H_a = np.array([[0,Omega1t(n),Omega2t(n),Omega3t(n), 0,0,0,0],\n",
    "                [Omega1t(n),Deltargg,0,0, Omega2t(n), Omega3t(n+1), 0, 0],\n",
    "                [Omega2t(n), 0, Deltagrg, 0, Omega1t(n), 0, Omega3t(n), 0],\n",
    "                [Omega3t(n), 0, 0, Deltaggr, 0, Omega1t(n-1), Omega2t(n), 0], \n",
    "                [0, Omega2t(n), Omega1t(n), 0, Deltarrg, 0, 0, Omega3t(n+1)],\n",
    "                [0, Omega3t(n), 0, Omega1t(n), 0, Deltargr, 0, Omega2t(n)],\n",
    "                [0, 0, Omega3t(n+1), Omega2t(n), 0, 0, Deltagrr, Omega1t(n-1)],\n",
    "                [0,0,0,0, Omega3t(n+1), Omega2t(n), Omega1t(n-1), Deltarrr]]\n",
    ")\n",
    "Ht= Qobj(H_a)\n",
    "Ht"
   ]
  },
  {
   "cell_type": "code",
   "execution_count": null,
   "metadata": {},
   "outputs": [],
   "source": [
    "rrr_state = basis(8,0)\n",
    "grr_state = basis(8,1)\n",
    "rgr_state = basis(8,2)\n",
    "rrg_state = basis(8,3)\n",
    "rgg_state = basis(8,4)\n",
    "grg_state = basis(8,5)\n",
    "ggr_state = basis(8,6)\n",
    "ggg_state = basis(8,7)\n",
    "\n",
    "P = rrr_state*rrr_state.dag() + ggg_state*ggg_state.dag()\n",
    "Q = qeye(8) - P"
   ]
  },
  {
   "cell_type": "code",
   "execution_count": null,
   "metadata": {},
   "outputs": [],
   "source": [
    "H_eff = P*Ht*P - P*Ht*Q*(Q*Ht*Q+10e-10*qeye(8)).inv()*Q*Ht*P "
   ]
  },
  {
   "cell_type": "code",
   "execution_count": null,
   "metadata": {},
   "outputs": [],
   "source": [
    "H_eff"
   ]
  },
  {
   "cell_type": "code",
   "execution_count": null,
   "metadata": {},
   "outputs": [],
   "source": [
    "initial_state = ggg_state\n",
    "\n",
    "# Time evolution\n",
    "times = np.linspace(0, 240*punit, 1000)  # Time range for simulation\n",
    "\n",
    "# Solve the master equation\n",
    "opts = Options(nsteps=1e8)\n",
    "result = mesolve(Ht, initial_state, times, c_ops=[], e_ops=[], options=opts)"
   ]
  },
  {
   "cell_type": "code",
   "execution_count": null,
   "metadata": {},
   "outputs": [],
   "source": [
    "# Extract expectation values\n",
    "P_ggg = expect(ggg_state * ggg_state.dag(), result.states)   # Probability of being in the ground state |gg>\n",
    "P_rrr = expect(rrr_state *rrr_state.dag(), result.states) # Probability of being in the Rydberg state |rr>\n",
    "\n",
    "P_rr = expect(grr_state*grr_state.dag() + rgr_state*rgr_state.dag() * rrg_state*rrg_state.dag(), result.states)\n",
    "P_r = expect(ggr_state*ggr_state.dag() + grg_state*grg_state.dag() * rgg_state*rgg_state.dag(), result.states)"
   ]
  },
  {
   "cell_type": "code",
   "execution_count": null,
   "metadata": {},
   "outputs": [],
   "source": [
    "# Plot the probabilities and coherences\n",
    "plt.figure(figsize=(20, 14))\n",
    "\n",
    "# Plot probabilities\n",
    "plt.subplot(411)\n",
    "plt.plot(times, P_ggg, label=r'$\\langle \\psi | ggg | \\psi \\rangle$ (Ground State)')\n",
    "plt.plot(times, P_rrr, label=r'$\\langle \\psi | rrr | \\psi \\rangle$ (Rydberg State)')\n",
    "# plt.plot(times, P_rr, label=r'$\\langle \\psi | P_{rr} | \\psi \\rangle$ (Doubly excited)' )\n",
    "# plt.plot(times, P_r, label=r'$\\langle \\psi | P_r | \\psi \\rangle$ (Singly excited)' )\n",
    "plt.xlabel('Time (arb. units)')\n",
    "plt.ylabel('Probability')\n",
    "plt.legend()"
   ]
  },
  {
   "cell_type": "code",
   "execution_count": null,
   "metadata": {},
   "outputs": [],
   "source": [
    "rho_f = result.states[-1]*result.states[-1].dag()\n",
    "hinton(rho_f)"
   ]
  }
 ],
 "metadata": {
  "kernelspec": {
   "display_name": "data_vis",
   "language": "python",
   "name": "python3"
  },
  "language_info": {
   "codemirror_mode": {
    "name": "ipython",
    "version": 3
   },
   "file_extension": ".py",
   "mimetype": "text/x-python",
   "name": "python",
   "nbconvert_exporter": "python",
   "pygments_lexer": "ipython3",
   "version": "3.10.15"
  }
 },
 "nbformat": 4,
 "nbformat_minor": 2
}
