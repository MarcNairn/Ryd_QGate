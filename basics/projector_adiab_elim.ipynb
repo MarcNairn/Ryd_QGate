{
 "cells": [
  {
   "cell_type": "markdown",
   "metadata": {},
   "source": [
    "Projector operator adiabatic elimination on a $\\Lambda$ system from a Greens function formalism [see here for more details](https://hal.science/hal-02492149/document)"
   ]
  },
  {
   "cell_type": "code",
   "execution_count": 2,
   "metadata": {},
   "outputs": [],
   "source": [
    "import numpy as np\n",
    "import matplotlib as pyplot\n",
    "import sympy as sp"
   ]
  },
  {
   "cell_type": "code",
   "execution_count": 53,
   "metadata": {},
   "outputs": [],
   "source": [
    "# Define delta (δ)\n",
    "delta = sp.symbols('delta')\n",
    "\n",
    "# Define Delta (Δ)\n",
    "Delta = sp.symbols('Delta')\n",
    "\n",
    "Omega_a = sp.symbols('Omega_a')\n",
    "\n",
    "Omega_a_c = sp.conjugate(Omega_a)\n",
    "\n",
    "Omega_b = sp.symbols('Omega_b')\n",
    "Omega_b_c = sp.conjugate(Omega_b)"
   ]
  },
  {
   "cell_type": "markdown",
   "metadata": {},
   "source": [
    "Define subspaces of interest, bare energy Hamiltonian $H_0$ and perturbative potential $V$ ($\\hbar=1$:)"
   ]
  },
  {
   "cell_type": "code",
   "execution_count": 89,
   "metadata": {},
   "outputs": [],
   "source": [
    "a = sp.Matrix([[1],[0],[0]])\n",
    "aT = a.T\n",
    "b = sp.Matrix([[0],[1],[0]])\n",
    "bT = b.T\n",
    "e = sp.Matrix([[0],[0],[1]])\n",
    "eT = e.T\n",
    "\n",
    "\n",
    "\n",
    "\n",
    "H0 = sp.Matrix([[-delta/2, 0, 0],\n",
    "[0, delta/2, 0],\n",
    "[0, 0, Delta]])\n",
    "\n",
    "V = sp.Matrix([[0, 0, Omega_a_c/2],\n",
    "[0, 0, Omega_b_c/2],\n",
    "[Omega_a/2, Omega_b/2, 0]])"
   ]
  },
  {
   "cell_type": "markdown",
   "metadata": {},
   "source": [
    "Define projectors to ground $\\mathcal{P}: P $ and excited state manifolds $\\mathcal{Q}: Q= I-P$"
   ]
  },
  {
   "cell_type": "code",
   "execution_count": 90,
   "metadata": {},
   "outputs": [],
   "source": [
    "P = a*aT + b*bT\n",
    "Q = sp.eye(3) - P"
   ]
  },
  {
   "cell_type": "code",
   "execution_count": 91,
   "metadata": {},
   "outputs": [],
   "source": [
    "PH0P = P*H0*P\n",
    "QH0Q =Q*H0*Q\n",
    "QVQ = Q*V*Q"
   ]
  },
  {
   "cell_type": "code",
   "execution_count": 101,
   "metadata": {},
   "outputs": [
    {
     "data": {
      "text/latex": [
       "$\\displaystyle \\left[\\begin{matrix}0 & 0 & 0\\\\0 & 0 & 0\\\\0 & 0 & \\Delta\\end{matrix}\\right]$"
      ],
      "text/plain": [
       "Matrix([\n",
       "[0, 0,     0],\n",
       "[0, 0,     0],\n",
       "[0, 0, Delta]])"
      ]
     },
     "execution_count": 101,
     "metadata": {},
     "output_type": "execute_result"
    }
   ],
   "source": [
    "Q*H0*Q"
   ]
  },
  {
   "cell_type": "code",
   "execution_count": 93,
   "metadata": {},
   "outputs": [],
   "source": [
    "R0 = V - V*1/Delta*V"
   ]
  },
  {
   "cell_type": "code",
   "execution_count": 96,
   "metadata": {},
   "outputs": [],
   "source": [
    "P*R0*P;"
   ]
  },
  {
   "cell_type": "code",
   "execution_count": 99,
   "metadata": {},
   "outputs": [],
   "source": [
    "Heff = PH0P + P*R0*P"
   ]
  },
  {
   "cell_type": "code",
   "execution_count": 100,
   "metadata": {},
   "outputs": [
    {
     "data": {
      "text/latex": [
       "$\\displaystyle \\left[\\begin{matrix}- \\frac{\\delta}{2} - \\frac{\\Omega_{a} \\overline{\\Omega_{a}}}{4 \\Delta} & - \\frac{\\Omega_{b} \\overline{\\Omega_{a}}}{4 \\Delta} & 0\\\\- \\frac{\\Omega_{a} \\overline{\\Omega_{b}}}{4 \\Delta} & \\frac{\\delta}{2} - \\frac{\\Omega_{b} \\overline{\\Omega_{b}}}{4 \\Delta} & 0\\\\0 & 0 & 0\\end{matrix}\\right]$"
      ],
      "text/plain": [
       "Matrix([\n",
       "[-delta/2 - Omega_a*conjugate(Omega_a)/(4*Delta),          -Omega_b*conjugate(Omega_a)/(4*Delta), 0],\n",
       "[          -Omega_a*conjugate(Omega_b)/(4*Delta), delta/2 - Omega_b*conjugate(Omega_b)/(4*Delta), 0],\n",
       "[                                              0,                                              0, 0]])"
      ]
     },
     "execution_count": 100,
     "metadata": {},
     "output_type": "execute_result"
    }
   ],
   "source": [
    "Heff"
   ]
  },
  {
   "cell_type": "markdown",
   "metadata": {},
   "source": [
    "Which is the standard result one obtains in such systems, with the dressed eigenenergies on the main diagonal and effective Rabi frequencies in the coherences"
   ]
  },
  {
   "cell_type": "code",
   "execution_count": 115,
   "metadata": {},
   "outputs": [
    {
     "data": {
      "text/latex": [
       "$\\displaystyle \\left[\\begin{matrix}- \\frac{\\delta}{2} - \\frac{\\Omega_{a} \\overline{\\Omega_{a}}}{4 \\Delta} & - \\frac{\\Omega_{b} \\overline{\\Omega_{a}}}{4 \\Delta} & 0\\\\- \\frac{\\Omega_{a} \\overline{\\Omega_{b}}}{4 \\Delta} & \\frac{\\delta}{2} - \\frac{\\Omega_{b} \\overline{\\Omega_{b}}}{4 \\Delta} & 0\\\\0 & 0 & 0\\end{matrix}\\right]$"
      ],
      "text/plain": [
       "Matrix([\n",
       "[-delta/2 - Omega_a*conjugate(Omega_a)/(4*Delta),          -Omega_b*conjugate(Omega_a)/(4*Delta), 0],\n",
       "[          -Omega_a*conjugate(Omega_b)/(4*Delta), delta/2 - Omega_b*conjugate(Omega_b)/(4*Delta), 0],\n",
       "[                                              0,                                              0, 0]])"
      ]
     },
     "execution_count": 115,
     "metadata": {},
     "output_type": "execute_result"
    }
   ],
   "source": [
    "PH0P + P*V*(sp.eye(3)-V/Delta)*P"
   ]
  },
  {
   "cell_type": "code",
   "execution_count": null,
   "metadata": {},
   "outputs": [],
   "source": []
  }
 ],
 "metadata": {
  "kernelspec": {
   "display_name": "Python 3",
   "language": "python",
   "name": "python3"
  },
  "language_info": {
   "codemirror_mode": {
    "name": "ipython",
    "version": 3
   },
   "file_extension": ".py",
   "mimetype": "text/x-python",
   "name": "python",
   "nbconvert_exporter": "python",
   "pygments_lexer": "ipython3",
   "version": "3.11.4"
  }
 },
 "nbformat": 4,
 "nbformat_minor": 2
}
